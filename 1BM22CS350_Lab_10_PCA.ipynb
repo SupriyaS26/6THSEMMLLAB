{
  "nbformat": 4,
  "nbformat_minor": 0,
  "metadata": {
    "colab": {
      "provenance": []
    },
    "kernelspec": {
      "name": "python3",
      "display_name": "Python 3"
    },
    "language_info": {
      "name": "python"
    }
  },
  "cells": [
    {
      "cell_type": "code",
      "execution_count": 2,
      "metadata": {
        "colab": {
          "base_uri": "https://localhost:8080/"
        },
        "id": "JoRumgkrgAVe",
        "outputId": "12529a7b-82ed-4966-ddb0-1a7aa6758745"
      },
      "outputs": [
        {
          "output_type": "stream",
          "name": "stdout",
          "text": [
            "Accuracy Before PCA:\n",
            "SVM: 0.8750\n",
            "Logistic Regression: 0.8533\n",
            "Random Forest: 0.8696\n",
            "\n",
            "Accuracy After PCA:\n",
            "SVM (PCA): 0.8750\n",
            "Logistic Regression (PCA): 0.8533\n",
            "Random Forest (PCA): 0.8587\n",
            "\n",
            "PCA Explained Variance Ratios:\n",
            "[23.61 10.82  9.48  8.34  7.38  6.66  6.24  5.27  5.17  4.29  4.09  3.04\n",
            "  2.81]\n"
          ]
        }
      ],
      "source": [
        "import pandas as pd\n",
        "import numpy as np\n",
        "from sklearn.model_selection import train_test_split\n",
        "from sklearn.preprocessing import StandardScaler, LabelEncoder\n",
        "from sklearn.decomposition import PCA\n",
        "from sklearn.metrics import accuracy_score\n",
        "from sklearn.svm import SVC\n",
        "from sklearn.linear_model import LogisticRegression\n",
        "from sklearn.ensemble import RandomForestClassifier\n",
        "\n",
        "# Load dataset\n",
        "df = pd.read_csv('heart.csv')\n",
        "\n",
        "# Step 1: Encode categorical features\n",
        "df_encoded = df.copy()\n",
        "label_cols = ['Sex', 'ChestPainType', 'RestingECG', 'ExerciseAngina', 'ST_Slope']\n",
        "\n",
        "# Apply label encoding for binary columns, one-hot encoding for others\n",
        "for col in label_cols:\n",
        "    if df_encoded[col].nunique() == 2:\n",
        "        df_encoded[col] = LabelEncoder().fit_transform(df_encoded[col])\n",
        "    else:\n",
        "        df_encoded = pd.get_dummies(df_encoded, columns=[col], drop_first=True)\n",
        "\n",
        "# Step 2: Split features and target\n",
        "X = df_encoded.drop(columns='HeartDisease')\n",
        "y = df_encoded['HeartDisease']\n",
        "\n",
        "# Step 3: Feature Scaling\n",
        "scaler = StandardScaler()\n",
        "X_scaled = scaler.fit_transform(X)\n",
        "\n",
        "# Step 4: Train-test split\n",
        "X_train, X_test, y_train, y_test = train_test_split(X_scaled, y, test_size=0.2, random_state=42)\n",
        "\n",
        "# Step 5: Train classifiers\n",
        "models = {\n",
        "    'SVM': SVC(),\n",
        "    'Logistic Regression': LogisticRegression(max_iter=1000),\n",
        "    'Random Forest': RandomForestClassifier()\n",
        "}\n",
        "\n",
        "print(\"Accuracy Before PCA:\")\n",
        "for name, model in models.items():\n",
        "    model.fit(X_train, y_train)\n",
        "    y_pred = model.predict(X_test)\n",
        "    acc = accuracy_score(y_test, y_pred)\n",
        "    print(f\"{name}: {acc:.4f}\")\n",
        "\n",
        "# Step 6: Apply PCA to retain 95% variance\n",
        "pca = PCA(n_components=0.95)\n",
        "X_train_pca = pca.fit_transform(X_train)\n",
        "X_test_pca = pca.transform(X_test)\n",
        "\n",
        "print(\"\\nAccuracy After PCA:\")\n",
        "for name, model in models.items():\n",
        "    model.fit(X_train_pca, y_train)\n",
        "    y_pred_pca = model.predict(X_test_pca)\n",
        "    acc_pca = accuracy_score(y_test, y_pred_pca)\n",
        "    print(f\"{name} (PCA): {acc_pca:.4f}\")\n",
        "\n",
        "# Optional: Display PCA variance ratios\n",
        "print(\"\\nPCA Explained Variance Ratios:\")\n",
        "print(np.round(pca.explained_variance_ratio_ * 100, 2))\n"
      ]
    }
  ]
}